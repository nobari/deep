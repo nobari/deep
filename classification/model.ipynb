{
  "nbformat": 4,
  "nbformat_minor": 0,
  "metadata": {
    "colab": {
      "name": "abeja.ipynb",
      "provenance": []
    },
    "kernelspec": {
      "name": "python3",
      "display_name": "Python 3"
    },
    "language_info": {
      "name": "python"
    }
  },
  "cells": [
    {
      "cell_type": "markdown",
      "source": [
        "#Define objective/goal\n",
        "classification process using a Deep Learning framework\n",
        "##Source of data\n",
        "The data is given and we have no clue on the source and nature of the data.\n",
        "\n",
        "We’ll start with a bunch of imports and setting a random seed for reproducibility:"
      ],
      "metadata": {
        "id": "TwcOzj3xZaGZ"
      }
    },
    {
      "cell_type": "markdown",
      "source": [
        "##imports we need for the learning and the entire process"
      ],
      "metadata": {
        "id": "JyThZ-mR64hM"
      }
    },
    {
      "cell_type": "code",
      "source": [
        "import pandas as pd\n",
        "import numpy as np\n",
        "from sklearn import preprocessing\n",
        "import matplotlib.pyplot as plt \n",
        "plt.rc(\"font\", size=14)\n",
        "from sklearn.linear_model import LogisticRegression\n",
        "from sklearn.model_selection import train_test_split\n",
        "import seaborn as sns\n",
        "sns.set(style=\"white\")\n",
        "sns.set(style=\"whitegrid\", color_codes=True)\n",
        "\n",
        "from keras.models import Sequential\n",
        "from keras.layers import Dense,Dropout\n",
        "from keras.optimizers import adam_v2\n",
        "from keras.callbacks import EarlyStopping\n",
        "from keras.wrappers.scikit_learn import KerasClassifier\n",
        "from sklearn.model_selection import cross_val_score\n",
        "from sklearn.model_selection import KFold\n",
        "from sklearn.preprocessing import MinMaxScaler\n",
        "from sklearn.ensemble import RandomForestClassifier\n",
        "#from keras.utils import np_utils\n",
        "#from sklearn.preprocessing import LabelEncoder\n",
        "\n",
        "RANDOM_SEED = 7"
      ],
      "metadata": {
        "id": "chg4n6eN05QF"
      },
      "execution_count": 78,
      "outputs": []
    },
    {
      "cell_type": "markdown",
      "source": [
        "#Reading the input"
      ],
      "metadata": {
        "id": "iSDpOBIn8HRN"
      }
    },
    {
      "cell_type": "markdown",
      "source": [
        "We have a button for uploading the data, we dont provide a link to the data for privacy and security reasons"
      ],
      "metadata": {
        "id": "t6-e7cv67Br7"
      }
    },
    {
      "cell_type": "code",
      "source": [
        "from google.colab import files\n",
        "uploaded = files.upload()"
      ],
      "metadata": {
        "colab": {
          "resources": {
            "http://localhost:8080/nbextensions/google.colab/files.js": {
              "data": "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",
              "ok": true,
              "headers": [
                [
                  "content-type",
                  "application/javascript"
                ]
              ],
              "status": 200,
              "status_text": ""
            }
          },
          "base_uri": "https://localhost:8080/",
          "height": 73
        },
        "id": "ENb1I4PRCn-e",
        "outputId": "b88a6c87-da0b-4034-8188-8fec18a76ca3"
      },
      "execution_count": 8,
      "outputs": [
        {
          "output_type": "display_data",
          "data": {
            "text/plain": [
              "<IPython.core.display.HTML object>"
            ],
            "text/html": [
              "\n",
              "     <input type=\"file\" id=\"files-5b746ec7-59c5-49c2-9d1c-0e4c2236cd2f\" name=\"files[]\" multiple disabled\n",
              "        style=\"border:none\" />\n",
              "     <output id=\"result-5b746ec7-59c5-49c2-9d1c-0e4c2236cd2f\">\n",
              "      Upload widget is only available when the cell has been executed in the\n",
              "      current browser session. Please rerun this cell to enable.\n",
              "      </output>\n",
              "      <script src=\"/nbextensions/google.colab/files.js\"></script> "
            ]
          },
          "metadata": {}
        },
        {
          "output_type": "stream",
          "name": "stdout",
          "text": [
            "Saving dataset.csv to dataset.csv\n"
          ]
        }
      ]
    },
    {
      "cell_type": "code",
      "source": [
        "data=pd.read_csv('dataset.csv', header=0)\n",
        "data = data.dropna()\n",
        "print(data.shape)\n",
        "print(list(data.columns))"
      ],
      "metadata": {
        "colab": {
          "base_uri": "https://localhost:8080/"
        },
        "id": "4235J2coCUXZ",
        "outputId": "577c9168-7337-4be1-97a0-c97e6765af7b"
      },
      "execution_count": 9,
      "outputs": [
        {
          "output_type": "stream",
          "name": "stdout",
          "text": [
            "(48097, 6)\n",
            "['0', '1', '2', '3', '4', 'label']\n"
          ]
        }
      ]
    },
    {
      "cell_type": "markdown",
      "source": [
        "So we have enough data to train"
      ],
      "metadata": {
        "id": "JUEDv0yA8B2i"
      }
    },
    {
      "cell_type": "code",
      "source": [
        "data.head()"
      ],
      "metadata": {
        "colab": {
          "base_uri": "https://localhost:8080/",
          "height": 206
        },
        "id": "-5b2jbfdDTCc",
        "outputId": "90714b96-55a0-4140-a4e4-cceefe31d59f"
      },
      "execution_count": 10,
      "outputs": [
        {
          "output_type": "execute_result",
          "data": {
            "text/plain": [
              "            0           1           2           3           4  label\n",
              "0  122.254980 -316.232650  -51.128054 -556.887773  -49.236176      5\n",
              "1  -58.995946  393.699146 -161.999853  529.245672 -313.172495      4\n",
              "2 -796.965065 -607.421427  295.521428  109.111587   25.661300      1\n",
              "3  185.968028  223.865456  595.139067   17.734789  339.045266      2\n",
              "4 -730.487099 -162.005114 -237.058238   85.692674 -149.535557      1"
            ],
            "text/html": [
              "\n",
              "  <div id=\"df-deba30ad-20bf-4c3b-9ba8-35d67f3ac7dd\">\n",
              "    <div class=\"colab-df-container\">\n",
              "      <div>\n",
              "<style scoped>\n",
              "    .dataframe tbody tr th:only-of-type {\n",
              "        vertical-align: middle;\n",
              "    }\n",
              "\n",
              "    .dataframe tbody tr th {\n",
              "        vertical-align: top;\n",
              "    }\n",
              "\n",
              "    .dataframe thead th {\n",
              "        text-align: right;\n",
              "    }\n",
              "</style>\n",
              "<table border=\"1\" class=\"dataframe\">\n",
              "  <thead>\n",
              "    <tr style=\"text-align: right;\">\n",
              "      <th></th>\n",
              "      <th>0</th>\n",
              "      <th>1</th>\n",
              "      <th>2</th>\n",
              "      <th>3</th>\n",
              "      <th>4</th>\n",
              "      <th>label</th>\n",
              "    </tr>\n",
              "  </thead>\n",
              "  <tbody>\n",
              "    <tr>\n",
              "      <th>0</th>\n",
              "      <td>122.254980</td>\n",
              "      <td>-316.232650</td>\n",
              "      <td>-51.128054</td>\n",
              "      <td>-556.887773</td>\n",
              "      <td>-49.236176</td>\n",
              "      <td>5</td>\n",
              "    </tr>\n",
              "    <tr>\n",
              "      <th>1</th>\n",
              "      <td>-58.995946</td>\n",
              "      <td>393.699146</td>\n",
              "      <td>-161.999853</td>\n",
              "      <td>529.245672</td>\n",
              "      <td>-313.172495</td>\n",
              "      <td>4</td>\n",
              "    </tr>\n",
              "    <tr>\n",
              "      <th>2</th>\n",
              "      <td>-796.965065</td>\n",
              "      <td>-607.421427</td>\n",
              "      <td>295.521428</td>\n",
              "      <td>109.111587</td>\n",
              "      <td>25.661300</td>\n",
              "      <td>1</td>\n",
              "    </tr>\n",
              "    <tr>\n",
              "      <th>3</th>\n",
              "      <td>185.968028</td>\n",
              "      <td>223.865456</td>\n",
              "      <td>595.139067</td>\n",
              "      <td>17.734789</td>\n",
              "      <td>339.045266</td>\n",
              "      <td>2</td>\n",
              "    </tr>\n",
              "    <tr>\n",
              "      <th>4</th>\n",
              "      <td>-730.487099</td>\n",
              "      <td>-162.005114</td>\n",
              "      <td>-237.058238</td>\n",
              "      <td>85.692674</td>\n",
              "      <td>-149.535557</td>\n",
              "      <td>1</td>\n",
              "    </tr>\n",
              "  </tbody>\n",
              "</table>\n",
              "</div>\n",
              "      <button class=\"colab-df-convert\" onclick=\"convertToInteractive('df-deba30ad-20bf-4c3b-9ba8-35d67f3ac7dd')\"\n",
              "              title=\"Convert this dataframe to an interactive table.\"\n",
              "              style=\"display:none;\">\n",
              "        \n",
              "  <svg xmlns=\"http://www.w3.org/2000/svg\" height=\"24px\"viewBox=\"0 0 24 24\"\n",
              "       width=\"24px\">\n",
              "    <path d=\"M0 0h24v24H0V0z\" fill=\"none\"/>\n",
              "    <path d=\"M18.56 5.44l.94 2.06.94-2.06 2.06-.94-2.06-.94-.94-2.06-.94 2.06-2.06.94zm-11 1L8.5 8.5l.94-2.06 2.06-.94-2.06-.94L8.5 2.5l-.94 2.06-2.06.94zm10 10l.94 2.06.94-2.06 2.06-.94-2.06-.94-.94-2.06-.94 2.06-2.06.94z\"/><path d=\"M17.41 7.96l-1.37-1.37c-.4-.4-.92-.59-1.43-.59-.52 0-1.04.2-1.43.59L10.3 9.45l-7.72 7.72c-.78.78-.78 2.05 0 2.83L4 21.41c.39.39.9.59 1.41.59.51 0 1.02-.2 1.41-.59l7.78-7.78 2.81-2.81c.8-.78.8-2.07 0-2.86zM5.41 20L4 18.59l7.72-7.72 1.47 1.35L5.41 20z\"/>\n",
              "  </svg>\n",
              "      </button>\n",
              "      \n",
              "  <style>\n",
              "    .colab-df-container {\n",
              "      display:flex;\n",
              "      flex-wrap:wrap;\n",
              "      gap: 12px;\n",
              "    }\n",
              "\n",
              "    .colab-df-convert {\n",
              "      background-color: #E8F0FE;\n",
              "      border: none;\n",
              "      border-radius: 50%;\n",
              "      cursor: pointer;\n",
              "      display: none;\n",
              "      fill: #1967D2;\n",
              "      height: 32px;\n",
              "      padding: 0 0 0 0;\n",
              "      width: 32px;\n",
              "    }\n",
              "\n",
              "    .colab-df-convert:hover {\n",
              "      background-color: #E2EBFA;\n",
              "      box-shadow: 0px 1px 2px rgba(60, 64, 67, 0.3), 0px 1px 3px 1px rgba(60, 64, 67, 0.15);\n",
              "      fill: #174EA6;\n",
              "    }\n",
              "\n",
              "    [theme=dark] .colab-df-convert {\n",
              "      background-color: #3B4455;\n",
              "      fill: #D2E3FC;\n",
              "    }\n",
              "\n",
              "    [theme=dark] .colab-df-convert:hover {\n",
              "      background-color: #434B5C;\n",
              "      box-shadow: 0px 1px 3px 1px rgba(0, 0, 0, 0.15);\n",
              "      filter: drop-shadow(0px 1px 2px rgba(0, 0, 0, 0.3));\n",
              "      fill: #FFFFFF;\n",
              "    }\n",
              "  </style>\n",
              "\n",
              "      <script>\n",
              "        const buttonEl =\n",
              "          document.querySelector('#df-deba30ad-20bf-4c3b-9ba8-35d67f3ac7dd button.colab-df-convert');\n",
              "        buttonEl.style.display =\n",
              "          google.colab.kernel.accessAllowed ? 'block' : 'none';\n",
              "\n",
              "        async function convertToInteractive(key) {\n",
              "          const element = document.querySelector('#df-deba30ad-20bf-4c3b-9ba8-35d67f3ac7dd');\n",
              "          const dataTable =\n",
              "            await google.colab.kernel.invokeFunction('convertToInteractive',\n",
              "                                                     [key], {});\n",
              "          if (!dataTable) return;\n",
              "\n",
              "          const docLinkHtml = 'Like what you see? Visit the ' +\n",
              "            '<a target=\"_blank\" href=https://colab.research.google.com/notebooks/data_table.ipynb>data table notebook</a>'\n",
              "            + ' to learn more about interactive tables.';\n",
              "          element.innerHTML = '';\n",
              "          dataTable['output_type'] = 'display_data';\n",
              "          await google.colab.output.renderOutput(dataTable, element);\n",
              "          const docLink = document.createElement('div');\n",
              "          docLink.innerHTML = docLinkHtml;\n",
              "          element.appendChild(docLink);\n",
              "        }\n",
              "      </script>\n",
              "    </div>\n",
              "  </div>\n",
              "  "
            ]
          },
          "metadata": {},
          "execution_count": 10
        }
      ]
    },
    {
      "cell_type": "markdown",
      "source": [
        "#Data Pre-processing"
      ],
      "metadata": {
        "id": "YuWrxtjq8X6m"
      }
    },
    {
      "cell_type": "code",
      "source": [
        "data.info()"
      ],
      "metadata": {
        "colab": {
          "base_uri": "https://localhost:8080/"
        },
        "id": "KRfkhuRmOwH9",
        "outputId": "96c52b5a-b055-4732-f2b7-e3c7bfee4dc8"
      },
      "execution_count": 11,
      "outputs": [
        {
          "output_type": "stream",
          "name": "stdout",
          "text": [
            "<class 'pandas.core.frame.DataFrame'>\n",
            "Int64Index: 48097 entries, 0 to 48096\n",
            "Data columns (total 6 columns):\n",
            " #   Column  Non-Null Count  Dtype  \n",
            "---  ------  --------------  -----  \n",
            " 0   0       48097 non-null  float64\n",
            " 1   1       48097 non-null  float64\n",
            " 2   2       48097 non-null  float64\n",
            " 3   3       48097 non-null  float64\n",
            " 4   4       48097 non-null  float64\n",
            " 5   label   48097 non-null  int64  \n",
            "dtypes: float64(5), int64(1)\n",
            "memory usage: 2.6 MB\n"
          ]
        }
      ]
    },
    {
      "cell_type": "markdown",
      "source": [
        "No missing values."
      ],
      "metadata": {
        "id": "h1m6eBj-8qu6"
      }
    },
    {
      "cell_type": "code",
      "source": [
        "data.describe()"
      ],
      "metadata": {
        "colab": {
          "base_uri": "https://localhost:8080/",
          "height": 300
        },
        "id": "ELZxIJUV_eoX",
        "outputId": "0e3ff2ad-59c8-4cbe-9bb1-c420850dea12"
      },
      "execution_count": 12,
      "outputs": [
        {
          "output_type": "execute_result",
          "data": {
            "text/plain": [
              "                  0             1             2             3             4  \\\n",
              "count  48097.000000  48097.000000  48097.000000  48097.000000  48097.000000   \n",
              "mean     -74.012773    -49.163586     66.113457     79.751523     42.148486   \n",
              "std      544.931452    460.369733    429.074760    437.723799    394.669667   \n",
              "min    -1081.144794  -1428.858379  -1361.445386  -1525.175643  -1297.710607   \n",
              "25%     -458.784954   -375.316510   -209.560841   -208.759536   -243.155355   \n",
              "50%      -83.254371   -125.037157     81.086057    100.669006     38.109662   \n",
              "75%      278.738695    256.862083    361.009433    352.765136    310.843765   \n",
              "max     2362.403606   1357.262954   1476.090518   1584.536666   1388.643195   \n",
              "\n",
              "              label  \n",
              "count  48097.000000  \n",
              "mean       4.265464  \n",
              "std        2.497215  \n",
              "min        0.000000  \n",
              "25%        2.000000  \n",
              "50%        4.000000  \n",
              "75%        6.000000  \n",
              "max        8.000000  "
            ],
            "text/html": [
              "\n",
              "  <div id=\"df-c08ae948-26a0-4a65-b098-b0d1e5422acd\">\n",
              "    <div class=\"colab-df-container\">\n",
              "      <div>\n",
              "<style scoped>\n",
              "    .dataframe tbody tr th:only-of-type {\n",
              "        vertical-align: middle;\n",
              "    }\n",
              "\n",
              "    .dataframe tbody tr th {\n",
              "        vertical-align: top;\n",
              "    }\n",
              "\n",
              "    .dataframe thead th {\n",
              "        text-align: right;\n",
              "    }\n",
              "</style>\n",
              "<table border=\"1\" class=\"dataframe\">\n",
              "  <thead>\n",
              "    <tr style=\"text-align: right;\">\n",
              "      <th></th>\n",
              "      <th>0</th>\n",
              "      <th>1</th>\n",
              "      <th>2</th>\n",
              "      <th>3</th>\n",
              "      <th>4</th>\n",
              "      <th>label</th>\n",
              "    </tr>\n",
              "  </thead>\n",
              "  <tbody>\n",
              "    <tr>\n",
              "      <th>count</th>\n",
              "      <td>48097.000000</td>\n",
              "      <td>48097.000000</td>\n",
              "      <td>48097.000000</td>\n",
              "      <td>48097.000000</td>\n",
              "      <td>48097.000000</td>\n",
              "      <td>48097.000000</td>\n",
              "    </tr>\n",
              "    <tr>\n",
              "      <th>mean</th>\n",
              "      <td>-74.012773</td>\n",
              "      <td>-49.163586</td>\n",
              "      <td>66.113457</td>\n",
              "      <td>79.751523</td>\n",
              "      <td>42.148486</td>\n",
              "      <td>4.265464</td>\n",
              "    </tr>\n",
              "    <tr>\n",
              "      <th>std</th>\n",
              "      <td>544.931452</td>\n",
              "      <td>460.369733</td>\n",
              "      <td>429.074760</td>\n",
              "      <td>437.723799</td>\n",
              "      <td>394.669667</td>\n",
              "      <td>2.497215</td>\n",
              "    </tr>\n",
              "    <tr>\n",
              "      <th>min</th>\n",
              "      <td>-1081.144794</td>\n",
              "      <td>-1428.858379</td>\n",
              "      <td>-1361.445386</td>\n",
              "      <td>-1525.175643</td>\n",
              "      <td>-1297.710607</td>\n",
              "      <td>0.000000</td>\n",
              "    </tr>\n",
              "    <tr>\n",
              "      <th>25%</th>\n",
              "      <td>-458.784954</td>\n",
              "      <td>-375.316510</td>\n",
              "      <td>-209.560841</td>\n",
              "      <td>-208.759536</td>\n",
              "      <td>-243.155355</td>\n",
              "      <td>2.000000</td>\n",
              "    </tr>\n",
              "    <tr>\n",
              "      <th>50%</th>\n",
              "      <td>-83.254371</td>\n",
              "      <td>-125.037157</td>\n",
              "      <td>81.086057</td>\n",
              "      <td>100.669006</td>\n",
              "      <td>38.109662</td>\n",
              "      <td>4.000000</td>\n",
              "    </tr>\n",
              "    <tr>\n",
              "      <th>75%</th>\n",
              "      <td>278.738695</td>\n",
              "      <td>256.862083</td>\n",
              "      <td>361.009433</td>\n",
              "      <td>352.765136</td>\n",
              "      <td>310.843765</td>\n",
              "      <td>6.000000</td>\n",
              "    </tr>\n",
              "    <tr>\n",
              "      <th>max</th>\n",
              "      <td>2362.403606</td>\n",
              "      <td>1357.262954</td>\n",
              "      <td>1476.090518</td>\n",
              "      <td>1584.536666</td>\n",
              "      <td>1388.643195</td>\n",
              "      <td>8.000000</td>\n",
              "    </tr>\n",
              "  </tbody>\n",
              "</table>\n",
              "</div>\n",
              "      <button class=\"colab-df-convert\" onclick=\"convertToInteractive('df-c08ae948-26a0-4a65-b098-b0d1e5422acd')\"\n",
              "              title=\"Convert this dataframe to an interactive table.\"\n",
              "              style=\"display:none;\">\n",
              "        \n",
              "  <svg xmlns=\"http://www.w3.org/2000/svg\" height=\"24px\"viewBox=\"0 0 24 24\"\n",
              "       width=\"24px\">\n",
              "    <path d=\"M0 0h24v24H0V0z\" fill=\"none\"/>\n",
              "    <path d=\"M18.56 5.44l.94 2.06.94-2.06 2.06-.94-2.06-.94-.94-2.06-.94 2.06-2.06.94zm-11 1L8.5 8.5l.94-2.06 2.06-.94-2.06-.94L8.5 2.5l-.94 2.06-2.06.94zm10 10l.94 2.06.94-2.06 2.06-.94-2.06-.94-.94-2.06-.94 2.06-2.06.94z\"/><path d=\"M17.41 7.96l-1.37-1.37c-.4-.4-.92-.59-1.43-.59-.52 0-1.04.2-1.43.59L10.3 9.45l-7.72 7.72c-.78.78-.78 2.05 0 2.83L4 21.41c.39.39.9.59 1.41.59.51 0 1.02-.2 1.41-.59l7.78-7.78 2.81-2.81c.8-.78.8-2.07 0-2.86zM5.41 20L4 18.59l7.72-7.72 1.47 1.35L5.41 20z\"/>\n",
              "  </svg>\n",
              "      </button>\n",
              "      \n",
              "  <style>\n",
              "    .colab-df-container {\n",
              "      display:flex;\n",
              "      flex-wrap:wrap;\n",
              "      gap: 12px;\n",
              "    }\n",
              "\n",
              "    .colab-df-convert {\n",
              "      background-color: #E8F0FE;\n",
              "      border: none;\n",
              "      border-radius: 50%;\n",
              "      cursor: pointer;\n",
              "      display: none;\n",
              "      fill: #1967D2;\n",
              "      height: 32px;\n",
              "      padding: 0 0 0 0;\n",
              "      width: 32px;\n",
              "    }\n",
              "\n",
              "    .colab-df-convert:hover {\n",
              "      background-color: #E2EBFA;\n",
              "      box-shadow: 0px 1px 2px rgba(60, 64, 67, 0.3), 0px 1px 3px 1px rgba(60, 64, 67, 0.15);\n",
              "      fill: #174EA6;\n",
              "    }\n",
              "\n",
              "    [theme=dark] .colab-df-convert {\n",
              "      background-color: #3B4455;\n",
              "      fill: #D2E3FC;\n",
              "    }\n",
              "\n",
              "    [theme=dark] .colab-df-convert:hover {\n",
              "      background-color: #434B5C;\n",
              "      box-shadow: 0px 1px 3px 1px rgba(0, 0, 0, 0.15);\n",
              "      filter: drop-shadow(0px 1px 2px rgba(0, 0, 0, 0.3));\n",
              "      fill: #FFFFFF;\n",
              "    }\n",
              "  </style>\n",
              "\n",
              "      <script>\n",
              "        const buttonEl =\n",
              "          document.querySelector('#df-c08ae948-26a0-4a65-b098-b0d1e5422acd button.colab-df-convert');\n",
              "        buttonEl.style.display =\n",
              "          google.colab.kernel.accessAllowed ? 'block' : 'none';\n",
              "\n",
              "        async function convertToInteractive(key) {\n",
              "          const element = document.querySelector('#df-c08ae948-26a0-4a65-b098-b0d1e5422acd');\n",
              "          const dataTable =\n",
              "            await google.colab.kernel.invokeFunction('convertToInteractive',\n",
              "                                                     [key], {});\n",
              "          if (!dataTable) return;\n",
              "\n",
              "          const docLinkHtml = 'Like what you see? Visit the ' +\n",
              "            '<a target=\"_blank\" href=https://colab.research.google.com/notebooks/data_table.ipynb>data table notebook</a>'\n",
              "            + ' to learn more about interactive tables.';\n",
              "          element.innerHTML = '';\n",
              "          dataTable['output_type'] = 'display_data';\n",
              "          await google.colab.output.renderOutput(dataTable, element);\n",
              "          const docLink = document.createElement('div');\n",
              "          docLink.innerHTML = docLinkHtml;\n",
              "          element.appendChild(docLink);\n",
              "        }\n",
              "      </script>\n",
              "    </div>\n",
              "  </div>\n",
              "  "
            ]
          },
          "metadata": {},
          "execution_count": 12
        }
      ]
    },
    {
      "cell_type": "markdown",
      "source": [
        "##Finding Correlations\n",
        "The correlation analysis might give you hints at what features might have predictive power when training your model.\n",
        "\n",
        "Computing Pearson correlation coefficient between a pair of features:"
      ],
      "metadata": {
        "id": "VEO8i2hU8Wh9"
      }
    },
    {
      "cell_type": "code",
      "source": [
        "correlation_matrix = data.corr()\n",
        "label_corr = correlation_matrix['label']\n",
        "label_corr.iloc[label_corr.abs().argsort()]"
      ],
      "metadata": {
        "colab": {
          "base_uri": "https://localhost:8080/"
        },
        "id": "nbPhsnCr8ZER",
        "outputId": "8e31b3de-79c2-4025-ac88-968ad8636d1b"
      },
      "execution_count": 19,
      "outputs": [
        {
          "output_type": "execute_result",
          "data": {
            "text/plain": [
              "2       -0.088977\n",
              "0        0.194512\n",
              "3       -0.231293\n",
              "4        0.290723\n",
              "1        0.312801\n",
              "label    1.000000\n",
              "Name: label, dtype: float64"
            ]
          },
          "metadata": {},
          "execution_count": 19
        }
      ]
    },
    {
      "cell_type": "code",
      "source": [
        "palette = sns.diverging_palette(20, 220, n=256)\n",
        "sns.heatmap(correlation_matrix, annot=True, fmt=\".2f\", cmap=palette, vmax=.3, center=0,\n",
        "            square=True, linewidths=.5);"
      ],
      "metadata": {
        "colab": {
          "base_uri": "https://localhost:8080/",
          "height": 272
        },
        "id": "Rt1sviJi98_h",
        "outputId": "b7d5d9a4-91fa-4d92-b8fd-22f74a2e484e"
      },
      "execution_count": 21,
      "outputs": [
        {
          "output_type": "display_data",
          "data": {
            "text/plain": [
              "<Figure size 432x288 with 2 Axes>"
            ],
            "image/png": "[encoded data removed]"
          },
          "metadata": {}
        }
      ]
    },
    {
      "cell_type": "markdown",
      "source": [
        "The correlation coefficient is defined in the -1 to 1 range. A value close to 0 means there is no correlation. Value of 1 suggests a perfect positive correlation (e.g. as the income increases, your power of expensing are going up, too!). Value of -1 suggests perfect negative correlation (e.g. high number of bad reviews should correlate with lower quality).\n",
        "\n",
        "Given the heatmap lets just keep the top 4 features"
      ],
      "metadata": {
        "id": "cN7rcKyL9N8B"
      }
    },
    {
      "cell_type": "code",
      "source": [
        "data=data.drop([\"2\"],axis=1)"
      ],
      "metadata": {
        "id": "JvZsdaac--3N"
      },
      "execution_count": 23,
      "outputs": []
    },
    {
      "cell_type": "markdown",
      "source": [
        "##Check Data balance"
      ],
      "metadata": {
        "id": "Qp2n6IYe_aCV"
      }
    },
    {
      "cell_type": "code",
      "source": [
        "data[\"label\"].value_counts()"
      ],
      "metadata": {
        "colab": {
          "base_uri": "https://localhost:8080/"
        },
        "id": "1wuE8LRrDZF-",
        "outputId": "614fa51b-6445-455d-8556-165633647844"
      },
      "execution_count": 24,
      "outputs": [
        {
          "output_type": "execute_result",
          "data": {
            "text/plain": [
              "1    7877\n",
              "2    6990\n",
              "6    6876\n",
              "8    6825\n",
              "4    6824\n",
              "5    6313\n",
              "7    3646\n",
              "0    1726\n",
              "3    1020\n",
              "Name: label, dtype: int64"
            ]
          },
          "metadata": {},
          "execution_count": 24
        }
      ]
    },
    {
      "cell_type": "code",
      "source": [
        "sns.countplot(x='label',data=data, palette='hls')\n",
        "plt.show()"
      ],
      "metadata": {
        "colab": {
          "base_uri": "https://localhost:8080/",
          "height": 285
        },
        "id": "d9DFqLbTKE88",
        "outputId": "81ec2a64-15e0-4e2f-9099-feff715817f3"
      },
      "execution_count": 25,
      "outputs": [
        {
          "output_type": "display_data",
          "data": {
            "text/plain": [
              "<Figure size 432x288 with 1 Axes>"
            ],
            "image/png": "[encoded data removed]"
          },
          "metadata": {}
        }
      ]
    },
    {
      "cell_type": "markdown",
      "source": [
        "Data is imbalance"
      ],
      "metadata": {
        "id": "BfEZA2lu868J"
      }
    },
    {
      "cell_type": "code",
      "source": [
        "data.groupby(\"label\").mean()"
      ],
      "metadata": {
        "colab": {
          "base_uri": "https://localhost:8080/",
          "height": 363
        },
        "id": "DRyzJMeEKZZs",
        "outputId": "6bb34119-4260-4e03-a2c7-70c50b9bf2a1"
      },
      "execution_count": 26,
      "outputs": [
        {
          "output_type": "execute_result",
          "data": {
            "text/plain": [
              "                 0           1           3           4\n",
              "label                                                 \n",
              "0      1017.379725 -166.995901 -121.300548 -541.199401\n",
              "1      -843.252761 -427.602921   97.203970 -241.465479\n",
              "2        97.695979 -316.210522  411.571638  280.871673\n",
              "3        80.887578 -465.590904 -258.323886  114.534771\n",
              "4       -65.331448  578.237905  203.623959  130.270692\n",
              "5       107.544229 -138.631222 -274.340842 -158.020522\n",
              "6       193.693684    9.160549  527.423492  180.606020\n",
              "7      -275.316108  578.531756 -208.280487 -228.704822\n",
              "8        -0.004122 -185.490821 -272.335056  363.935260"
            ],
            "text/html": [
              "\n",
              "  <div id=\"df-930ce465-c425-4109-9656-03049776103e\">\n",
              "    <div class=\"colab-df-container\">\n",
              "      <div>\n",
              "<style scoped>\n",
              "    .dataframe tbody tr th:only-of-type {\n",
              "        vertical-align: middle;\n",
              "    }\n",
              "\n",
              "    .dataframe tbody tr th {\n",
              "        vertical-align: top;\n",
              "    }\n",
              "\n",
              "    .dataframe thead th {\n",
              "        text-align: right;\n",
              "    }\n",
              "</style>\n",
              "<table border=\"1\" class=\"dataframe\">\n",
              "  <thead>\n",
              "    <tr style=\"text-align: right;\">\n",
              "      <th></th>\n",
              "      <th>0</th>\n",
              "      <th>1</th>\n",
              "      <th>3</th>\n",
              "      <th>4</th>\n",
              "    </tr>\n",
              "    <tr>\n",
              "      <th>label</th>\n",
              "      <th></th>\n",
              "      <th></th>\n",
              "      <th></th>\n",
              "      <th></th>\n",
              "    </tr>\n",
              "  </thead>\n",
              "  <tbody>\n",
              "    <tr>\n",
              "      <th>0</th>\n",
              "      <td>1017.379725</td>\n",
              "      <td>-166.995901</td>\n",
              "      <td>-121.300548</td>\n",
              "      <td>-541.199401</td>\n",
              "    </tr>\n",
              "    <tr>\n",
              "      <th>1</th>\n",
              "      <td>-843.252761</td>\n",
              "      <td>-427.602921</td>\n",
              "      <td>97.203970</td>\n",
              "      <td>-241.465479</td>\n",
              "    </tr>\n",
              "    <tr>\n",
              "      <th>2</th>\n",
              "      <td>97.695979</td>\n",
              "      <td>-316.210522</td>\n",
              "      <td>411.571638</td>\n",
              "      <td>280.871673</td>\n",
              "    </tr>\n",
              "    <tr>\n",
              "      <th>3</th>\n",
              "      <td>80.887578</td>\n",
              "      <td>-465.590904</td>\n",
              "      <td>-258.323886</td>\n",
              "      <td>114.534771</td>\n",
              "    </tr>\n",
              "    <tr>\n",
              "      <th>4</th>\n",
              "      <td>-65.331448</td>\n",
              "      <td>578.237905</td>\n",
              "      <td>203.623959</td>\n",
              "      <td>130.270692</td>\n",
              "    </tr>\n",
              "    <tr>\n",
              "      <th>5</th>\n",
              "      <td>107.544229</td>\n",
              "      <td>-138.631222</td>\n",
              "      <td>-274.340842</td>\n",
              "      <td>-158.020522</td>\n",
              "    </tr>\n",
              "    <tr>\n",
              "      <th>6</th>\n",
              "      <td>193.693684</td>\n",
              "      <td>9.160549</td>\n",
              "      <td>527.423492</td>\n",
              "      <td>180.606020</td>\n",
              "    </tr>\n",
              "    <tr>\n",
              "      <th>7</th>\n",
              "      <td>-275.316108</td>\n",
              "      <td>578.531756</td>\n",
              "      <td>-208.280487</td>\n",
              "      <td>-228.704822</td>\n",
              "    </tr>\n",
              "    <tr>\n",
              "      <th>8</th>\n",
              "      <td>-0.004122</td>\n",
              "      <td>-185.490821</td>\n",
              "      <td>-272.335056</td>\n",
              "      <td>363.935260</td>\n",
              "    </tr>\n",
              "  </tbody>\n",
              "</table>\n",
              "</div>\n",
              "      <button class=\"colab-df-convert\" onclick=\"convertToInteractive('df-930ce465-c425-4109-9656-03049776103e')\"\n",
              "              title=\"Convert this dataframe to an interactive table.\"\n",
              "              style=\"display:none;\">\n",
              "        \n",
              "  <svg xmlns=\"http://www.w3.org/2000/svg\" height=\"24px\"viewBox=\"0 0 24 24\"\n",
              "       width=\"24px\">\n",
              "    <path d=\"M0 0h24v24H0V0z\" fill=\"none\"/>\n",
              "    <path d=\"M18.56 5.44l.94 2.06.94-2.06 2.06-.94-2.06-.94-.94-2.06-.94 2.06-2.06.94zm-11 1L8.5 8.5l.94-2.06 2.06-.94-2.06-.94L8.5 2.5l-.94 2.06-2.06.94zm10 10l.94 2.06.94-2.06 2.06-.94-2.06-.94-.94-2.06-.94 2.06-2.06.94z\"/><path d=\"M17.41 7.96l-1.37-1.37c-.4-.4-.92-.59-1.43-.59-.52 0-1.04.2-1.43.59L10.3 9.45l-7.72 7.72c-.78.78-.78 2.05 0 2.83L4 21.41c.39.39.9.59 1.41.59.51 0 1.02-.2 1.41-.59l7.78-7.78 2.81-2.81c.8-.78.8-2.07 0-2.86zM5.41 20L4 18.59l7.72-7.72 1.47 1.35L5.41 20z\"/>\n",
              "  </svg>\n",
              "      </button>\n",
              "      \n",
              "  <style>\n",
              "    .colab-df-container {\n",
              "      display:flex;\n",
              "      flex-wrap:wrap;\n",
              "      gap: 12px;\n",
              "    }\n",
              "\n",
              "    .colab-df-convert {\n",
              "      background-color: #E8F0FE;\n",
              "      border: none;\n",
              "      border-radius: 50%;\n",
              "      cursor: pointer;\n",
              "      display: none;\n",
              "      fill: #1967D2;\n",
              "      height: 32px;\n",
              "      padding: 0 0 0 0;\n",
              "      width: 32px;\n",
              "    }\n",
              "\n",
              "    .colab-df-convert:hover {\n",
              "      background-color: #E2EBFA;\n",
              "      box-shadow: 0px 1px 2px rgba(60, 64, 67, 0.3), 0px 1px 3px 1px rgba(60, 64, 67, 0.15);\n",
              "      fill: #174EA6;\n",
              "    }\n",
              "\n",
              "    [theme=dark] .colab-df-convert {\n",
              "      background-color: #3B4455;\n",
              "      fill: #D2E3FC;\n",
              "    }\n",
              "\n",
              "    [theme=dark] .colab-df-convert:hover {\n",
              "      background-color: #434B5C;\n",
              "      box-shadow: 0px 1px 3px 1px rgba(0, 0, 0, 0.15);\n",
              "      filter: drop-shadow(0px 1px 2px rgba(0, 0, 0, 0.3));\n",
              "      fill: #FFFFFF;\n",
              "    }\n",
              "  </style>\n",
              "\n",
              "      <script>\n",
              "        const buttonEl =\n",
              "          document.querySelector('#df-930ce465-c425-4109-9656-03049776103e button.colab-df-convert');\n",
              "        buttonEl.style.display =\n",
              "          google.colab.kernel.accessAllowed ? 'block' : 'none';\n",
              "\n",
              "        async function convertToInteractive(key) {\n",
              "          const element = document.querySelector('#df-930ce465-c425-4109-9656-03049776103e');\n",
              "          const dataTable =\n",
              "            await google.colab.kernel.invokeFunction('convertToInteractive',\n",
              "                                                     [key], {});\n",
              "          if (!dataTable) return;\n",
              "\n",
              "          const docLinkHtml = 'Like what you see? Visit the ' +\n",
              "            '<a target=\"_blank\" href=https://colab.research.google.com/notebooks/data_table.ipynb>data table notebook</a>'\n",
              "            + ' to learn more about interactive tables.';\n",
              "          element.innerHTML = '';\n",
              "          dataTable['output_type'] = 'display_data';\n",
              "          await google.colab.output.renderOutput(dataTable, element);\n",
              "          const docLink = document.createElement('div');\n",
              "          docLink.innerHTML = docLinkHtml;\n",
              "          element.appendChild(docLink);\n",
              "        }\n",
              "      </script>\n",
              "    </div>\n",
              "  </div>\n",
              "  "
            ]
          },
          "metadata": {},
          "execution_count": 26
        }
      ]
    },
    {
      "cell_type": "markdown",
      "source": [
        "##Balancing the data\n",
        "###SMOTE\n",
        "The minority class is over-sampled by taking each minority class sample and introducing synthetic examples along the line segments joining any/all of the k minority class nearest neighbors\n",
        "\n",
        "Synthetic samples are generated in the following way: Take the diﬀerence between the feature vector (sample) under consideration and its nearest neighbor. Multiply this diﬀerence by a random number between 0 and 1, and add it to the feature vector under consideration. This causes the selection of a random point along the line segment between two speciﬁc features. This approach eﬀectively forces the decision region of the minority class to become more general."
      ],
      "metadata": {
        "id": "DsK3HfpO9Ng7"
      }
    },
    {
      "cell_type": "code",
      "source": [
        "from imblearn.over_sampling import SMOTE"
      ],
      "metadata": {
        "id": "1PHQioqjnJTd"
      },
      "execution_count": 27,
      "outputs": []
    },
    {
      "cell_type": "code",
      "source": [
        "smt = SMOTE()\n",
        "Y=data[\"label\"]\n",
        "X=data.drop([\"label\"],axis=1)\n",
        "X, y = smt.fit_resample(X, Y)\n",
        "y=pd.DataFrame(y)\n",
        "y.value_counts()"
      ],
      "metadata": {
        "colab": {
          "base_uri": "https://localhost:8080/"
        },
        "id": "GmJqdqPGnMVj",
        "outputId": "831fff04-a2b3-4423-d845-6dfcbc10a9df"
      },
      "execution_count": 49,
      "outputs": [
        {
          "output_type": "execute_result",
          "data": {
            "text/plain": [
              "label\n",
              "0        7877\n",
              "1        7877\n",
              "2        7877\n",
              "3        7877\n",
              "4        7877\n",
              "5        7877\n",
              "6        7877\n",
              "7        7877\n",
              "8        7877\n",
              "dtype: int64"
            ]
          },
          "metadata": {},
          "execution_count": 49
        }
      ]
    },
    {
      "cell_type": "markdown",
      "source": [
        "Now it is balanced!"
      ],
      "metadata": {
        "id": "bY_DF598BZfT"
      }
    },
    {
      "cell_type": "markdown",
      "source": [
        "##Normalize features within range 0 (minimum) and 1 (maximum)"
      ],
      "metadata": {
        "id": "zAujkcBTCMIB"
      }
    },
    {
      "cell_type": "code",
      "source": [
        "scaler = MinMaxScaler(feature_range=(0, 1))\n",
        "X = scaler.fit_transform(X)\n",
        "Xpd = pd.DataFrame(X)"
      ],
      "metadata": {
        "id": "6v-lYmMEdq8p"
      },
      "execution_count": 43,
      "outputs": []
    },
    {
      "cell_type": "code",
      "source": [
        "Xpd.describe()"
      ],
      "metadata": {
        "colab": {
          "base_uri": "https://localhost:8080/",
          "height": 300
        },
        "id": "np1R1BiECad0",
        "outputId": "71e8c170-877f-47f0-f0b4-7cc229e085c6"
      },
      "execution_count": 45,
      "outputs": [
        {
          "output_type": "execute_result",
          "data": {
            "text/plain": [
              "                  0             1             2             3\n",
              "count  70893.000000  70893.000000  70893.000000  70893.000000\n",
              "mean       0.323901      0.491439      0.493892      0.479139\n",
              "std        0.171713      0.167875      0.139393      0.155790\n",
              "min        0.000000      0.000000      0.000000      0.000000\n",
              "25%        0.205798      0.373979      0.394158      0.372330\n",
              "50%        0.309244      0.464200      0.495697      0.480671\n",
              "75%        0.424416      0.599738      0.582408      0.586608\n",
              "max        1.000000      1.000000      1.000000      1.000000"
            ],
            "text/html": [
              "\n",
              "  <div id=\"df-817c5332-f62f-4426-96bc-1efcc7c8347d\">\n",
              "    <div class=\"colab-df-container\">\n",
              "      <div>\n",
              "<style scoped>\n",
              "    .dataframe tbody tr th:only-of-type {\n",
              "        vertical-align: middle;\n",
              "    }\n",
              "\n",
              "    .dataframe tbody tr th {\n",
              "        vertical-align: top;\n",
              "    }\n",
              "\n",
              "    .dataframe thead th {\n",
              "        text-align: right;\n",
              "    }\n",
              "</style>\n",
              "<table border=\"1\" class=\"dataframe\">\n",
              "  <thead>\n",
              "    <tr style=\"text-align: right;\">\n",
              "      <th></th>\n",
              "      <th>0</th>\n",
              "      <th>1</th>\n",
              "      <th>2</th>\n",
              "      <th>3</th>\n",
              "    </tr>\n",
              "  </thead>\n",
              "  <tbody>\n",
              "    <tr>\n",
              "      <th>count</th>\n",
              "      <td>70893.000000</td>\n",
              "      <td>70893.000000</td>\n",
              "      <td>70893.000000</td>\n",
              "      <td>70893.000000</td>\n",
              "    </tr>\n",
              "    <tr>\n",
              "      <th>mean</th>\n",
              "      <td>0.323901</td>\n",
              "      <td>0.491439</td>\n",
              "      <td>0.493892</td>\n",
              "      <td>0.479139</td>\n",
              "    </tr>\n",
              "    <tr>\n",
              "      <th>std</th>\n",
              "      <td>0.171713</td>\n",
              "      <td>0.167875</td>\n",
              "      <td>0.139393</td>\n",
              "      <td>0.155790</td>\n",
              "    </tr>\n",
              "    <tr>\n",
              "      <th>min</th>\n",
              "      <td>0.000000</td>\n",
              "      <td>0.000000</td>\n",
              "      <td>0.000000</td>\n",
              "      <td>0.000000</td>\n",
              "    </tr>\n",
              "    <tr>\n",
              "      <th>25%</th>\n",
              "      <td>0.205798</td>\n",
              "      <td>0.373979</td>\n",
              "      <td>0.394158</td>\n",
              "      <td>0.372330</td>\n",
              "    </tr>\n",
              "    <tr>\n",
              "      <th>50%</th>\n",
              "      <td>0.309244</td>\n",
              "      <td>0.464200</td>\n",
              "      <td>0.495697</td>\n",
              "      <td>0.480671</td>\n",
              "    </tr>\n",
              "    <tr>\n",
              "      <th>75%</th>\n",
              "      <td>0.424416</td>\n",
              "      <td>0.599738</td>\n",
              "      <td>0.582408</td>\n",
              "      <td>0.586608</td>\n",
              "    </tr>\n",
              "    <tr>\n",
              "      <th>max</th>\n",
              "      <td>1.000000</td>\n",
              "      <td>1.000000</td>\n",
              "      <td>1.000000</td>\n",
              "      <td>1.000000</td>\n",
              "    </tr>\n",
              "  </tbody>\n",
              "</table>\n",
              "</div>\n",
              "      <button class=\"colab-df-convert\" onclick=\"convertToInteractive('df-817c5332-f62f-4426-96bc-1efcc7c8347d')\"\n",
              "              title=\"Convert this dataframe to an interactive table.\"\n",
              "              style=\"display:none;\">\n",
              "        \n",
              "  <svg xmlns=\"http://www.w3.org/2000/svg\" height=\"24px\"viewBox=\"0 0 24 24\"\n",
              "       width=\"24px\">\n",
              "    <path d=\"M0 0h24v24H0V0z\" fill=\"none\"/>\n",
              "    <path d=\"M18.56 5.44l.94 2.06.94-2.06 2.06-.94-2.06-.94-.94-2.06-.94 2.06-2.06.94zm-11 1L8.5 8.5l.94-2.06 2.06-.94-2.06-.94L8.5 2.5l-.94 2.06-2.06.94zm10 10l.94 2.06.94-2.06 2.06-.94-2.06-.94-.94-2.06-.94 2.06-2.06.94z\"/><path d=\"M17.41 7.96l-1.37-1.37c-.4-.4-.92-.59-1.43-.59-.52 0-1.04.2-1.43.59L10.3 9.45l-7.72 7.72c-.78.78-.78 2.05 0 2.83L4 21.41c.39.39.9.59 1.41.59.51 0 1.02-.2 1.41-.59l7.78-7.78 2.81-2.81c.8-.78.8-2.07 0-2.86zM5.41 20L4 18.59l7.72-7.72 1.47 1.35L5.41 20z\"/>\n",
              "  </svg>\n",
              "      </button>\n",
              "      \n",
              "  <style>\n",
              "    .colab-df-container {\n",
              "      display:flex;\n",
              "      flex-wrap:wrap;\n",
              "      gap: 12px;\n",
              "    }\n",
              "\n",
              "    .colab-df-convert {\n",
              "      background-color: #E8F0FE;\n",
              "      border: none;\n",
              "      border-radius: 50%;\n",
              "      cursor: pointer;\n",
              "      display: none;\n",
              "      fill: #1967D2;\n",
              "      height: 32px;\n",
              "      padding: 0 0 0 0;\n",
              "      width: 32px;\n",
              "    }\n",
              "\n",
              "    .colab-df-convert:hover {\n",
              "      background-color: #E2EBFA;\n",
              "      box-shadow: 0px 1px 2px rgba(60, 64, 67, 0.3), 0px 1px 3px 1px rgba(60, 64, 67, 0.15);\n",
              "      fill: #174EA6;\n",
              "    }\n",
              "\n",
              "    [theme=dark] .colab-df-convert {\n",
              "      background-color: #3B4455;\n",
              "      fill: #D2E3FC;\n",
              "    }\n",
              "\n",
              "    [theme=dark] .colab-df-convert:hover {\n",
              "      background-color: #434B5C;\n",
              "      box-shadow: 0px 1px 3px 1px rgba(0, 0, 0, 0.15);\n",
              "      filter: drop-shadow(0px 1px 2px rgba(0, 0, 0, 0.3));\n",
              "      fill: #FFFFFF;\n",
              "    }\n",
              "  </style>\n",
              "\n",
              "      <script>\n",
              "        const buttonEl =\n",
              "          document.querySelector('#df-817c5332-f62f-4426-96bc-1efcc7c8347d button.colab-df-convert');\n",
              "        buttonEl.style.display =\n",
              "          google.colab.kernel.accessAllowed ? 'block' : 'none';\n",
              "\n",
              "        async function convertToInteractive(key) {\n",
              "          const element = document.querySelector('#df-817c5332-f62f-4426-96bc-1efcc7c8347d');\n",
              "          const dataTable =\n",
              "            await google.colab.kernel.invokeFunction('convertToInteractive',\n",
              "                                                     [key], {});\n",
              "          if (!dataTable) return;\n",
              "\n",
              "          const docLinkHtml = 'Like what you see? Visit the ' +\n",
              "            '<a target=\"_blank\" href=https://colab.research.google.com/notebooks/data_table.ipynb>data table notebook</a>'\n",
              "            + ' to learn more about interactive tables.';\n",
              "          element.innerHTML = '';\n",
              "          dataTable['output_type'] = 'display_data';\n",
              "          await google.colab.output.renderOutput(dataTable, element);\n",
              "          const docLink = document.createElement('div');\n",
              "          docLink.innerHTML = docLinkHtml;\n",
              "          element.appendChild(docLink);\n",
              "        }\n",
              "      </script>\n",
              "    </div>\n",
              "  </div>\n",
              "  "
            ]
          },
          "metadata": {},
          "execution_count": 45
        }
      ]
    },
    {
      "cell_type": "markdown",
      "source": [
        "##preprocess the categorical data\n",
        "Some Machine Learning algorithms can operate on categorical data without any preprocessing (like Decision trees, Naive Bayes). But most can’t.\n",
        "\n",
        "Unfortunately, you can’t replace the category names with a number. Converting Label name \"1\" to 1 and \"2\" to 2 suggests that \"1\" is greater (2 times) than \"2\". That may not be true, specially in case of tokenized data. How can we solve this?\n",
        "\n",
        "We can use One-hot encoding.\n",
        "To train the Neural Network, single target column must be converted into one hot encoded format."
      ],
      "metadata": {
        "id": "IQKY_LKSCjE4"
      }
    },
    {
      "cell_type": "code",
      "source": [
        "from sklearn.preprocessing import OneHotEncoder\n",
        "Y=OneHotEncoder(sparse=False).fit_transform(y)\n",
        "# Y=pd.get_dummies(y)\n",
        "Ypd=pd.DataFrame(Y)\n",
        "Ypd.head()"
      ],
      "metadata": {
        "colab": {
          "base_uri": "https://localhost:8080/",
          "height": 206
        },
        "id": "IixbvSbdR3IS",
        "outputId": "dc888ebc-e7fb-45c2-bf82-7e5a89a3f5a3"
      },
      "execution_count": 50,
      "outputs": [
        {
          "output_type": "execute_result",
          "data": {
            "text/plain": [
              "     0    1    2    3    4    5    6    7    8\n",
              "0  0.0  0.0  0.0  0.0  0.0  1.0  0.0  0.0  0.0\n",
              "1  0.0  0.0  0.0  0.0  1.0  0.0  0.0  0.0  0.0\n",
              "2  0.0  1.0  0.0  0.0  0.0  0.0  0.0  0.0  0.0\n",
              "3  0.0  0.0  1.0  0.0  0.0  0.0  0.0  0.0  0.0\n",
              "4  0.0  1.0  0.0  0.0  0.0  0.0  0.0  0.0  0.0"
            ],
            "text/html": [
              "\n",
              "  <div id=\"df-8a456d3d-d266-4687-863c-caa9715161cf\">\n",
              "    <div class=\"colab-df-container\">\n",
              "      <div>\n",
              "<style scoped>\n",
              "    .dataframe tbody tr th:only-of-type {\n",
              "        vertical-align: middle;\n",
              "    }\n",
              "\n",
              "    .dataframe tbody tr th {\n",
              "        vertical-align: top;\n",
              "    }\n",
              "\n",
              "    .dataframe thead th {\n",
              "        text-align: right;\n",
              "    }\n",
              "</style>\n",
              "<table border=\"1\" class=\"dataframe\">\n",
              "  <thead>\n",
              "    <tr style=\"text-align: right;\">\n",
              "      <th></th>\n",
              "      <th>0</th>\n",
              "      <th>1</th>\n",
              "      <th>2</th>\n",
              "      <th>3</th>\n",
              "      <th>4</th>\n",
              "      <th>5</th>\n",
              "      <th>6</th>\n",
              "      <th>7</th>\n",
              "      <th>8</th>\n",
              "    </tr>\n",
              "  </thead>\n",
              "  <tbody>\n",
              "    <tr>\n",
              "      <th>0</th>\n",
              "      <td>0.0</td>\n",
              "      <td>0.0</td>\n",
              "      <td>0.0</td>\n",
              "      <td>0.0</td>\n",
              "      <td>0.0</td>\n",
              "      <td>1.0</td>\n",
              "      <td>0.0</td>\n",
              "      <td>0.0</td>\n",
              "      <td>0.0</td>\n",
              "    </tr>\n",
              "    <tr>\n",
              "      <th>1</th>\n",
              "      <td>0.0</td>\n",
              "      <td>0.0</td>\n",
              "      <td>0.0</td>\n",
              "      <td>0.0</td>\n",
              "      <td>1.0</td>\n",
              "      <td>0.0</td>\n",
              "      <td>0.0</td>\n",
              "      <td>0.0</td>\n",
              "      <td>0.0</td>\n",
              "    </tr>\n",
              "    <tr>\n",
              "      <th>2</th>\n",
              "      <td>0.0</td>\n",
              "      <td>1.0</td>\n",
              "      <td>0.0</td>\n",
              "      <td>0.0</td>\n",
              "      <td>0.0</td>\n",
              "      <td>0.0</td>\n",
              "      <td>0.0</td>\n",
              "      <td>0.0</td>\n",
              "      <td>0.0</td>\n",
              "    </tr>\n",
              "    <tr>\n",
              "      <th>3</th>\n",
              "      <td>0.0</td>\n",
              "      <td>0.0</td>\n",
              "      <td>1.0</td>\n",
              "      <td>0.0</td>\n",
              "      <td>0.0</td>\n",
              "      <td>0.0</td>\n",
              "      <td>0.0</td>\n",
              "      <td>0.0</td>\n",
              "      <td>0.0</td>\n",
              "    </tr>\n",
              "    <tr>\n",
              "      <th>4</th>\n",
              "      <td>0.0</td>\n",
              "      <td>1.0</td>\n",
              "      <td>0.0</td>\n",
              "      <td>0.0</td>\n",
              "      <td>0.0</td>\n",
              "      <td>0.0</td>\n",
              "      <td>0.0</td>\n",
              "      <td>0.0</td>\n",
              "      <td>0.0</td>\n",
              "    </tr>\n",
              "  </tbody>\n",
              "</table>\n",
              "</div>\n",
              "      <button class=\"colab-df-convert\" onclick=\"convertToInteractive('df-8a456d3d-d266-4687-863c-caa9715161cf')\"\n",
              "              title=\"Convert this dataframe to an interactive table.\"\n",
              "              style=\"display:none;\">\n",
              "        \n",
              "  <svg xmlns=\"http://www.w3.org/2000/svg\" height=\"24px\"viewBox=\"0 0 24 24\"\n",
              "       width=\"24px\">\n",
              "    <path d=\"M0 0h24v24H0V0z\" fill=\"none\"/>\n",
              "    <path d=\"M18.56 5.44l.94 2.06.94-2.06 2.06-.94-2.06-.94-.94-2.06-.94 2.06-2.06.94zm-11 1L8.5 8.5l.94-2.06 2.06-.94-2.06-.94L8.5 2.5l-.94 2.06-2.06.94zm10 10l.94 2.06.94-2.06 2.06-.94-2.06-.94-.94-2.06-.94 2.06-2.06.94z\"/><path d=\"M17.41 7.96l-1.37-1.37c-.4-.4-.92-.59-1.43-.59-.52 0-1.04.2-1.43.59L10.3 9.45l-7.72 7.72c-.78.78-.78 2.05 0 2.83L4 21.41c.39.39.9.59 1.41.59.51 0 1.02-.2 1.41-.59l7.78-7.78 2.81-2.81c.8-.78.8-2.07 0-2.86zM5.41 20L4 18.59l7.72-7.72 1.47 1.35L5.41 20z\"/>\n",
              "  </svg>\n",
              "      </button>\n",
              "      \n",
              "  <style>\n",
              "    .colab-df-container {\n",
              "      display:flex;\n",
              "      flex-wrap:wrap;\n",
              "      gap: 12px;\n",
              "    }\n",
              "\n",
              "    .colab-df-convert {\n",
              "      background-color: #E8F0FE;\n",
              "      border: none;\n",
              "      border-radius: 50%;\n",
              "      cursor: pointer;\n",
              "      display: none;\n",
              "      fill: #1967D2;\n",
              "      height: 32px;\n",
              "      padding: 0 0 0 0;\n",
              "      width: 32px;\n",
              "    }\n",
              "\n",
              "    .colab-df-convert:hover {\n",
              "      background-color: #E2EBFA;\n",
              "      box-shadow: 0px 1px 2px rgba(60, 64, 67, 0.3), 0px 1px 3px 1px rgba(60, 64, 67, 0.15);\n",
              "      fill: #174EA6;\n",
              "    }\n",
              "\n",
              "    [theme=dark] .colab-df-convert {\n",
              "      background-color: #3B4455;\n",
              "      fill: #D2E3FC;\n",
              "    }\n",
              "\n",
              "    [theme=dark] .colab-df-convert:hover {\n",
              "      background-color: #434B5C;\n",
              "      box-shadow: 0px 1px 3px 1px rgba(0, 0, 0, 0.15);\n",
              "      filter: drop-shadow(0px 1px 2px rgba(0, 0, 0, 0.3));\n",
              "      fill: #FFFFFF;\n",
              "    }\n",
              "  </style>\n",
              "\n",
              "      <script>\n",
              "        const buttonEl =\n",
              "          document.querySelector('#df-8a456d3d-d266-4687-863c-caa9715161cf button.colab-df-convert');\n",
              "        buttonEl.style.display =\n",
              "          google.colab.kernel.accessAllowed ? 'block' : 'none';\n",
              "\n",
              "        async function convertToInteractive(key) {\n",
              "          const element = document.querySelector('#df-8a456d3d-d266-4687-863c-caa9715161cf');\n",
              "          const dataTable =\n",
              "            await google.colab.kernel.invokeFunction('convertToInteractive',\n",
              "                                                     [key], {});\n",
              "          if (!dataTable) return;\n",
              "\n",
              "          const docLinkHtml = 'Like what you see? Visit the ' +\n",
              "            '<a target=\"_blank\" href=https://colab.research.google.com/notebooks/data_table.ipynb>data table notebook</a>'\n",
              "            + ' to learn more about interactive tables.';\n",
              "          element.innerHTML = '';\n",
              "          dataTable['output_type'] = 'display_data';\n",
              "          await google.colab.output.renderOutput(dataTable, element);\n",
              "          const docLink = document.createElement('div');\n",
              "          docLink.innerHTML = docLinkHtml;\n",
              "          element.appendChild(docLink);\n",
              "        }\n",
              "      </script>\n",
              "    </div>\n",
              "  </div>\n",
              "  "
            ]
          },
          "metadata": {},
          "execution_count": 50
        }
      ]
    },
    {
      "cell_type": "markdown",
      "source": [
        "Essentially, we get a vector for each value that contains 1 at the index of the category and 0 for every other value. This encoding solves the comparison issue. The negative part is that your data now might take much more memory."
      ],
      "metadata": {
        "id": "tRTO1ZnQEf6J"
      }
    },
    {
      "cell_type": "markdown",
      "source": [
        ">for production\n",
        "All data preprocessing steps are to be performed on the training data and data we’re going to receive via the REST API for prediction. We can unite the steps using make_column_transformer():"
      ],
      "metadata": {
        "id": "KjilV8MSEkLK"
      }
    },
    {
      "cell_type": "code",
      "source": [
        "from sklearn.preprocessing import MinMaxScaler\n",
        "from sklearn.compose import make_column_transformer\n",
        "transformer = make_column_transformer(\n",
        "    (MinMaxScaler(), [\n",
        "      '0','1','3','4'\n",
        "    ]),\n",
        "    remainder='drop'\n",
        ")"
      ],
      "metadata": {
        "id": "O4ZqZG_sEIM8"
      },
      "execution_count": 54,
      "outputs": []
    },
    {
      "cell_type": "code",
      "source": [
        "test=data.copy()\n",
        "transformer.fit(test)\n",
        "test=transformer.transform(test)\n",
        "test[0]"
      ],
      "metadata": {
        "colab": {
          "base_uri": "https://localhost:8080/"
        },
        "id": "47rjaSj4Es8-",
        "outputId": "b1ba7da2-1623-4027-bbde-851a3c024c34"
      },
      "execution_count": 60,
      "outputs": [
        {
          "output_type": "execute_result",
          "data": {
            "text/plain": [
              "array([0.34946504, 0.39934576, 0.31137539, 0.46474684])"
            ]
          },
          "metadata": {},
          "execution_count": 60
        }
      ]
    },
    {
      "cell_type": "markdown",
      "source": [
        "For Keras, convert dataframe to array values (Inbuilt requirement of Keras)"
      ],
      "metadata": {
        "id": "4JB3TnilDmJY"
      }
    },
    {
      "cell_type": "code",
      "source": [
        "X = X #already an array\n",
        "Y = Y #already an array"
      ],
      "metadata": {
        "id": "AxuAXQ2JfLO_"
      },
      "execution_count": 51,
      "outputs": []
    },
    {
      "cell_type": "markdown",
      "source": [
        "##Create test/train"
      ],
      "metadata": {
        "id": "36jA-JqfDhOx"
      }
    },
    {
      "cell_type": "code",
      "source": [
        "X_train, X_test, y_train, y_test = train_test_split(X, Y, test_size=0.2, random_state=RANDOM_SEED)"
      ],
      "metadata": {
        "id": "FqnMDlLyjNhl"
      },
      "execution_count": 63,
      "outputs": []
    },
    {
      "cell_type": "code",
      "source": [
        "print(X_train.shape,X_test.shape)"
      ],
      "metadata": {
        "colab": {
          "base_uri": "https://localhost:8080/"
        },
        "id": "qDxDPDBEjrPV",
        "outputId": "47030b50-87fd-4802-ecd6-7cde88d01103"
      },
      "execution_count": 70,
      "outputs": [
        {
          "output_type": "stream",
          "name": "stdout",
          "text": [
            "(56714, 4) (14179, 4)\n"
          ]
        }
      ]
    },
    {
      "cell_type": "markdown",
      "source": [
        "#Build our model\n",
        "\n",
        "Build a Deep Neural Network with Keras\n",
        "\n",
        "##Error measurement\n",
        "\n",
        "We’ll use Mean Squared Error which measures the difference between average squared predicted and true values"
      ],
      "metadata": {
        "id": "FQ6kiAERGbjC"
      }
    },
    {
      "cell_type": "code",
      "source": [
        "# First define baseline model. Then use it in Keras Classifier for the training\n",
        "def baseline_model():\n",
        "    # Create model here\n",
        "    model = Sequential()\n",
        "    model.add(Dense(20, input_shape=[X_train.shape[1]], activation = 'relu')) # Rectified Linear Unit Activation Function\n",
        "    model.add(Dropout(rate=0.3))\n",
        "    # model.add(Dense(units=32, activation=\"relu\"))\n",
        "    # model.add(Dropout(rate=0.5))\n",
        "    model.add(Dense(9, activation = 'softmax')) # Softmax for multi-class classification\n",
        "    # Compile model here\n",
        "    model.compile(loss = 'mse', optimizer=adam_v2.Adam(0.0001), metrics = ['mse'])\n",
        "    # model.compile(loss = 'categorical_crossentropy', optimizer = 'adam', metrics = ['accuracy'])\n",
        "    return model"
      ],
      "metadata": {
        "id": "19dh8a3pfRzs"
      },
      "execution_count": 87,
      "outputs": []
    },
    {
      "cell_type": "markdown",
      "source": [
        ">We also do regularization using Dropout layers."
      ],
      "metadata": {
        "id": "dJ1sFfkHIsdc"
      }
    },
    {
      "cell_type": "markdown",
      "source": [
        "#Training\n",
        "\n",
        "We feed the training method with the training data and specify the following parameters:\n",
        "\n",
        "shuffle - random sort the data\n",
        "epochs - number of training cycles\n",
        "validation_split - use some percent of the data for measuring the error and not during training\n",
        "batch_size - the number of training examples that are fed at a time to our model\n",
        "callbacks - we use EarlyStopping to prevent our model from overfitting when the training and validation error start to diverge"
      ],
      "metadata": {
        "id": "3p1T_XzdJGs1"
      }
    },
    {
      "cell_type": "code",
      "source": [
        "model=baseline_model()"
      ],
      "metadata": {
        "id": "FNHINk1dGxSE"
      },
      "execution_count": 88,
      "outputs": []
    },
    {
      "cell_type": "code",
      "source": [
        "BATCH_SIZE = 32\n",
        "early_stop = EarlyStopping(\n",
        "  monitor='val_mse',\n",
        "  mode=\"min\",\n",
        "  patience=10\n",
        ")\n",
        "history = model.fit(\n",
        "  x=X_train,\n",
        "  y=y_train,\n",
        "  shuffle=True,\n",
        "  epochs=100,\n",
        "  validation_split=0.2,\n",
        "  batch_size=BATCH_SIZE,\n",
        "  callbacks=[early_stop]\n",
        ")"
      ],
      "metadata": {
        "colab": {
          "base_uri": "https://localhost:8080/"
        },
        "id": "vOsfijKekJgG",
        "outputId": "aaa12451-2a28-4d35-bab8-993fcf8e38c1"
      },
      "execution_count": 89,
      "outputs": [
        {
          "output_type": "stream",
          "name": "stdout",
          "text": [
            "Epoch 1/100\n",
            "1418/1418 [==============================] - 2s 2ms/step - loss: 0.1858 - mse: 0.1858 - val_loss: 0.1817 - val_mse: 0.1817\n",
            "Epoch 2/100\n",
            "1418/1418 [==============================] - 2s 1ms/step - loss: 0.1774 - mse: 0.1774 - val_loss: 0.1622 - val_mse: 0.1622\n",
            "Epoch 3/100\n",
            "1418/1418 [==============================] - 2s 1ms/step - loss: 0.1674 - mse: 0.1674 - val_loss: 0.1450 - val_mse: 0.1450\n",
            "Epoch 4/100\n",
            "1418/1418 [==============================] - 2s 1ms/step - loss: 0.1580 - mse: 0.1580 - val_loss: 0.1335 - val_mse: 0.1335\n",
            "Epoch 5/100\n",
            "1418/1418 [==============================] - 2s 1ms/step - loss: 0.1508 - mse: 0.1508 - val_loss: 0.1266 - val_mse: 0.1266\n",
            "Epoch 6/100\n",
            "1418/1418 [==============================] - 2s 1ms/step - loss: 0.1454 - mse: 0.1454 - val_loss: 0.1238 - val_mse: 0.1238\n",
            "Epoch 7/100\n",
            "1418/1418 [==============================] - 2s 1ms/step - loss: 0.1424 - mse: 0.1424 - val_loss: 0.1221 - val_mse: 0.1221\n",
            "Epoch 8/100\n",
            "1418/1418 [==============================] - 2s 1ms/step - loss: 0.1383 - mse: 0.1383 - val_loss: 0.1210 - val_mse: 0.1210\n",
            "Epoch 9/100\n",
            "1418/1418 [==============================] - 2s 1ms/step - loss: 0.1350 - mse: 0.1350 - val_loss: 0.1180 - val_mse: 0.1180\n",
            "Epoch 10/100\n",
            "1418/1418 [==============================] - 2s 1ms/step - loss: 0.1315 - mse: 0.1315 - val_loss: 0.1153 - val_mse: 0.1153\n",
            "Epoch 11/100\n",
            "1418/1418 [==============================] - 2s 1ms/step - loss: 0.1289 - mse: 0.1289 - val_loss: 0.1126 - val_mse: 0.1126\n",
            "Epoch 12/100\n",
            "1418/1418 [==============================] - 2s 1ms/step - loss: 0.1260 - mse: 0.1260 - val_loss: 0.1091 - val_mse: 0.1091\n",
            "Epoch 13/100\n",
            "1418/1418 [==============================] - 3s 2ms/step - loss: 0.1232 - mse: 0.1232 - val_loss: 0.1072 - val_mse: 0.1072\n",
            "Epoch 14/100\n",
            "1418/1418 [==============================] - 3s 2ms/step - loss: 0.1220 - mse: 0.1220 - val_loss: 0.1047 - val_mse: 0.1047\n",
            "Epoch 15/100\n",
            "1418/1418 [==============================] - 2s 1ms/step - loss: 0.1194 - mse: 0.1194 - val_loss: 0.1040 - val_mse: 0.1040\n",
            "Epoch 16/100\n",
            "1418/1418 [==============================] - 2s 1ms/step - loss: 0.1185 - mse: 0.1185 - val_loss: 0.1031 - val_mse: 0.1031\n",
            "Epoch 17/100\n",
            "1418/1418 [==============================] - 2s 1ms/step - loss: 0.1176 - mse: 0.1176 - val_loss: 0.1025 - val_mse: 0.1025\n",
            "Epoch 18/100\n",
            "1418/1418 [==============================] - 2s 1ms/step - loss: 0.1163 - mse: 0.1163 - val_loss: 0.1011 - val_mse: 0.1011\n",
            "Epoch 19/100\n",
            "1418/1418 [==============================] - 2s 1ms/step - loss: 0.1149 - mse: 0.1149 - val_loss: 0.1008 - val_mse: 0.1008\n",
            "Epoch 20/100\n",
            "1418/1418 [==============================] - 2s 1ms/step - loss: 0.1139 - mse: 0.1139 - val_loss: 0.1001 - val_mse: 0.1001\n",
            "Epoch 21/100\n",
            "1418/1418 [==============================] - 2s 1ms/step - loss: 0.1130 - mse: 0.1130 - val_loss: 0.0995 - val_mse: 0.0995\n",
            "Epoch 22/100\n",
            "1418/1418 [==============================] - 3s 2ms/step - loss: 0.1124 - mse: 0.1124 - val_loss: 0.0984 - val_mse: 0.0984\n",
            "Epoch 23/100\n",
            "1418/1418 [==============================] - 3s 2ms/step - loss: 0.1118 - mse: 0.1118 - val_loss: 0.0978 - val_mse: 0.0978\n",
            "Epoch 24/100\n",
            "1418/1418 [==============================] - 3s 2ms/step - loss: 0.1110 - mse: 0.1110 - val_loss: 0.0971 - val_mse: 0.0971\n",
            "Epoch 25/100\n",
            "1418/1418 [==============================] - 3s 2ms/step - loss: 0.1106 - mse: 0.1106 - val_loss: 0.0973 - val_mse: 0.0973\n",
            "Epoch 26/100\n",
            "1418/1418 [==============================] - 3s 2ms/step - loss: 0.1103 - mse: 0.1103 - val_loss: 0.0971 - val_mse: 0.0971\n",
            "Epoch 27/100\n",
            "1418/1418 [==============================] - 2s 1ms/step - loss: 0.1091 - mse: 0.1091 - val_loss: 0.0967 - val_mse: 0.0967\n",
            "Epoch 28/100\n",
            "1418/1418 [==============================] - 2s 1ms/step - loss: 0.1087 - mse: 0.1087 - val_loss: 0.0961 - val_mse: 0.0961\n",
            "Epoch 29/100\n",
            "1418/1418 [==============================] - 2s 1ms/step - loss: 0.1080 - mse: 0.1080 - val_loss: 0.0956 - val_mse: 0.0956\n",
            "Epoch 30/100\n",
            "1418/1418 [==============================] - 2s 1ms/step - loss: 0.1079 - mse: 0.1079 - val_loss: 0.0954 - val_mse: 0.0954\n",
            "Epoch 31/100\n",
            "1418/1418 [==============================] - 2s 1ms/step - loss: 0.1069 - mse: 0.1069 - val_loss: 0.0943 - val_mse: 0.0943\n",
            "Epoch 32/100\n",
            "1418/1418 [==============================] - 2s 1ms/step - loss: 0.1070 - mse: 0.1070 - val_loss: 0.0939 - val_mse: 0.0939\n",
            "Epoch 33/100\n",
            "1418/1418 [==============================] - 2s 1ms/step - loss: 0.1057 - mse: 0.1057 - val_loss: 0.0924 - val_mse: 0.0924\n",
            "Epoch 34/100\n",
            "1418/1418 [==============================] - 2s 1ms/step - loss: 0.1048 - mse: 0.1048 - val_loss: 0.0915 - val_mse: 0.0915\n",
            "Epoch 35/100\n",
            "1418/1418 [==============================] - 2s 1ms/step - loss: 0.1042 - mse: 0.1042 - val_loss: 0.0912 - val_mse: 0.0912\n",
            "Epoch 36/100\n",
            "1418/1418 [==============================] - 2s 1ms/step - loss: 0.1032 - mse: 0.1032 - val_loss: 0.0907 - val_mse: 0.0907\n",
            "Epoch 37/100\n",
            "1418/1418 [==============================] - 2s 1ms/step - loss: 0.1031 - mse: 0.1031 - val_loss: 0.0905 - val_mse: 0.0905\n",
            "Epoch 38/100\n",
            "1418/1418 [==============================] - 2s 1ms/step - loss: 0.1021 - mse: 0.1021 - val_loss: 0.0902 - val_mse: 0.0902\n",
            "Epoch 39/100\n",
            "1418/1418 [==============================] - 2s 1ms/step - loss: 0.1012 - mse: 0.1012 - val_loss: 0.0894 - val_mse: 0.0894\n",
            "Epoch 40/100\n",
            "1418/1418 [==============================] - 2s 1ms/step - loss: 0.1000 - mse: 0.1000 - val_loss: 0.0889 - val_mse: 0.0889\n",
            "Epoch 41/100\n",
            "1418/1418 [==============================] - 2s 1ms/step - loss: 0.0992 - mse: 0.0992 - val_loss: 0.0878 - val_mse: 0.0878\n",
            "Epoch 42/100\n",
            "1418/1418 [==============================] - 2s 1ms/step - loss: 0.0989 - mse: 0.0989 - val_loss: 0.0876 - val_mse: 0.0876\n",
            "Epoch 43/100\n",
            "1418/1418 [==============================] - 2s 1ms/step - loss: 0.0973 - mse: 0.0973 - val_loss: 0.0863 - val_mse: 0.0863\n",
            "Epoch 44/100\n",
            "1418/1418 [==============================] - 2s 1ms/step - loss: 0.0973 - mse: 0.0973 - val_loss: 0.0858 - val_mse: 0.0858\n",
            "Epoch 45/100\n",
            "1418/1418 [==============================] - 2s 1ms/step - loss: 0.0968 - mse: 0.0968 - val_loss: 0.0845 - val_mse: 0.0845\n",
            "Epoch 46/100\n",
            "1418/1418 [==============================] - 2s 1ms/step - loss: 0.0961 - mse: 0.0961 - val_loss: 0.0837 - val_mse: 0.0837\n",
            "Epoch 47/100\n",
            "1418/1418 [==============================] - 2s 1ms/step - loss: 0.0957 - mse: 0.0957 - val_loss: 0.0829 - val_mse: 0.0829\n",
            "Epoch 48/100\n",
            "1418/1418 [==============================] - 2s 1ms/step - loss: 0.0950 - mse: 0.0950 - val_loss: 0.0822 - val_mse: 0.0822\n",
            "Epoch 49/100\n",
            "1418/1418 [==============================] - 2s 1ms/step - loss: 0.0944 - mse: 0.0944 - val_loss: 0.0818 - val_mse: 0.0818\n",
            "Epoch 50/100\n",
            "1418/1418 [==============================] - 2s 1ms/step - loss: 0.0937 - mse: 0.0937 - val_loss: 0.0825 - val_mse: 0.0825\n",
            "Epoch 51/100\n",
            "1418/1418 [==============================] - 2s 1ms/step - loss: 0.0936 - mse: 0.0936 - val_loss: 0.0822 - val_mse: 0.0822\n",
            "Epoch 52/100\n",
            "1418/1418 [==============================] - 2s 1ms/step - loss: 0.0941 - mse: 0.0941 - val_loss: 0.0823 - val_mse: 0.0823\n",
            "Epoch 53/100\n",
            "1418/1418 [==============================] - 2s 1ms/step - loss: 0.0934 - mse: 0.0934 - val_loss: 0.0815 - val_mse: 0.0815\n",
            "Epoch 54/100\n",
            "1418/1418 [==============================] - 2s 1ms/step - loss: 0.0935 - mse: 0.0935 - val_loss: 0.0811 - val_mse: 0.0811\n",
            "Epoch 55/100\n",
            "1418/1418 [==============================] - 2s 1ms/step - loss: 0.0935 - mse: 0.0935 - val_loss: 0.0815 - val_mse: 0.0815\n",
            "Epoch 56/100\n",
            "1418/1418 [==============================] - 2s 1ms/step - loss: 0.0931 - mse: 0.0931 - val_loss: 0.0811 - val_mse: 0.0811\n",
            "Epoch 57/100\n",
            "1418/1418 [==============================] - 3s 2ms/step - loss: 0.0928 - mse: 0.0928 - val_loss: 0.0808 - val_mse: 0.0808\n",
            "Epoch 58/100\n",
            "1418/1418 [==============================] - 3s 2ms/step - loss: 0.0928 - mse: 0.0928 - val_loss: 0.0811 - val_mse: 0.0811\n",
            "Epoch 59/100\n",
            "1418/1418 [==============================] - 3s 2ms/step - loss: 0.0926 - mse: 0.0926 - val_loss: 0.0808 - val_mse: 0.0808\n",
            "Epoch 60/100\n",
            "1418/1418 [==============================] - 4s 3ms/step - loss: 0.0923 - mse: 0.0923 - val_loss: 0.0812 - val_mse: 0.0812\n",
            "Epoch 61/100\n",
            "1418/1418 [==============================] - 2s 2ms/step - loss: 0.0921 - mse: 0.0921 - val_loss: 0.0809 - val_mse: 0.0809\n",
            "Epoch 62/100\n",
            "1418/1418 [==============================] - 2s 1ms/step - loss: 0.0921 - mse: 0.0921 - val_loss: 0.0810 - val_mse: 0.0810\n",
            "Epoch 63/100\n",
            "1418/1418 [==============================] - 2s 1ms/step - loss: 0.0922 - mse: 0.0922 - val_loss: 0.0808 - val_mse: 0.0808\n",
            "Epoch 64/100\n",
            "1418/1418 [==============================] - 2s 1ms/step - loss: 0.0915 - mse: 0.0915 - val_loss: 0.0808 - val_mse: 0.0808\n",
            "Epoch 65/100\n",
            "1418/1418 [==============================] - 4s 3ms/step - loss: 0.0912 - mse: 0.0912 - val_loss: 0.0807 - val_mse: 0.0807\n",
            "Epoch 66/100\n",
            "1418/1418 [==============================] - 3s 2ms/step - loss: 0.0912 - mse: 0.0912 - val_loss: 0.0810 - val_mse: 0.0810\n",
            "Epoch 67/100\n",
            "1418/1418 [==============================] - 2s 1ms/step - loss: 0.0909 - mse: 0.0909 - val_loss: 0.0804 - val_mse: 0.0804\n",
            "Epoch 68/100\n",
            "1418/1418 [==============================] - 2s 1ms/step - loss: 0.0911 - mse: 0.0911 - val_loss: 0.0807 - val_mse: 0.0807\n",
            "Epoch 69/100\n",
            "1418/1418 [==============================] - 2s 1ms/step - loss: 0.0912 - mse: 0.0912 - val_loss: 0.0806 - val_mse: 0.0806\n",
            "Epoch 70/100\n",
            "1418/1418 [==============================] - 2s 1ms/step - loss: 0.0905 - mse: 0.0905 - val_loss: 0.0803 - val_mse: 0.0803\n",
            "Epoch 71/100\n",
            "1418/1418 [==============================] - 2s 1ms/step - loss: 0.0906 - mse: 0.0906 - val_loss: 0.0802 - val_mse: 0.0802\n",
            "Epoch 72/100\n",
            "1418/1418 [==============================] - 2s 1ms/step - loss: 0.0901 - mse: 0.0901 - val_loss: 0.0800 - val_mse: 0.0800\n",
            "Epoch 73/100\n",
            "1418/1418 [==============================] - 2s 2ms/step - loss: 0.0901 - mse: 0.0901 - val_loss: 0.0800 - val_mse: 0.0800\n",
            "Epoch 74/100\n",
            "1418/1418 [==============================] - 2s 1ms/step - loss: 0.0894 - mse: 0.0894 - val_loss: 0.0801 - val_mse: 0.0801\n",
            "Epoch 75/100\n",
            "1418/1418 [==============================] - 2s 1ms/step - loss: 0.0900 - mse: 0.0900 - val_loss: 0.0801 - val_mse: 0.0801\n",
            "Epoch 76/100\n",
            "1418/1418 [==============================] - 2s 1ms/step - loss: 0.0893 - mse: 0.0893 - val_loss: 0.0804 - val_mse: 0.0804\n",
            "Epoch 77/100\n",
            "1418/1418 [==============================] - 2s 1ms/step - loss: 0.0892 - mse: 0.0892 - val_loss: 0.0803 - val_mse: 0.0803\n",
            "Epoch 78/100\n",
            "1418/1418 [==============================] - 2s 1ms/step - loss: 0.0897 - mse: 0.0897 - val_loss: 0.0804 - val_mse: 0.0804\n",
            "Epoch 79/100\n",
            "1418/1418 [==============================] - 2s 1ms/step - loss: 0.0901 - mse: 0.0901 - val_loss: 0.0804 - val_mse: 0.0804\n",
            "Epoch 80/100\n",
            "1418/1418 [==============================] - 2s 1ms/step - loss: 0.0891 - mse: 0.0891 - val_loss: 0.0802 - val_mse: 0.0802\n",
            "Epoch 81/100\n",
            "1418/1418 [==============================] - 2s 1ms/step - loss: 0.0895 - mse: 0.0895 - val_loss: 0.0799 - val_mse: 0.0799\n",
            "Epoch 82/100\n",
            "1418/1418 [==============================] - 2s 1ms/step - loss: 0.0886 - mse: 0.0886 - val_loss: 0.0798 - val_mse: 0.0798\n",
            "Epoch 83/100\n",
            "1418/1418 [==============================] - 2s 1ms/step - loss: 0.0888 - mse: 0.0888 - val_loss: 0.0800 - val_mse: 0.0800\n",
            "Epoch 84/100\n",
            "1418/1418 [==============================] - 2s 1ms/step - loss: 0.0884 - mse: 0.0884 - val_loss: 0.0802 - val_mse: 0.0802\n",
            "Epoch 85/100\n",
            "1418/1418 [==============================] - 2s 1ms/step - loss: 0.0884 - mse: 0.0884 - val_loss: 0.0800 - val_mse: 0.0800\n",
            "Epoch 86/100\n",
            "1418/1418 [==============================] - 2s 1ms/step - loss: 0.0887 - mse: 0.0887 - val_loss: 0.0803 - val_mse: 0.0803\n",
            "Epoch 87/100\n",
            "1418/1418 [==============================] - 2s 1ms/step - loss: 0.0884 - mse: 0.0884 - val_loss: 0.0799 - val_mse: 0.0799\n",
            "Epoch 88/100\n",
            "1418/1418 [==============================] - 2s 1ms/step - loss: 0.0883 - mse: 0.0883 - val_loss: 0.0799 - val_mse: 0.0799\n",
            "Epoch 89/100\n",
            "1418/1418 [==============================] - 2s 1ms/step - loss: 0.0886 - mse: 0.0886 - val_loss: 0.0799 - val_mse: 0.0799\n",
            "Epoch 90/100\n",
            "1418/1418 [==============================] - 2s 1ms/step - loss: 0.0884 - mse: 0.0884 - val_loss: 0.0797 - val_mse: 0.0797\n",
            "Epoch 91/100\n",
            "1418/1418 [==============================] - 3s 2ms/step - loss: 0.0879 - mse: 0.0879 - val_loss: 0.0798 - val_mse: 0.0798\n",
            "Epoch 92/100\n",
            "1418/1418 [==============================] - 3s 2ms/step - loss: 0.0884 - mse: 0.0884 - val_loss: 0.0795 - val_mse: 0.0795\n",
            "Epoch 93/100\n",
            "1418/1418 [==============================] - 3s 2ms/step - loss: 0.0877 - mse: 0.0877 - val_loss: 0.0797 - val_mse: 0.0797\n",
            "Epoch 94/100\n",
            "1418/1418 [==============================] - 2s 1ms/step - loss: 0.0880 - mse: 0.0880 - val_loss: 0.0797 - val_mse: 0.0797\n",
            "Epoch 95/100\n",
            "1418/1418 [==============================] - 2s 1ms/step - loss: 0.0881 - mse: 0.0881 - val_loss: 0.0799 - val_mse: 0.0799\n",
            "Epoch 96/100\n",
            "1418/1418 [==============================] - 2s 1ms/step - loss: 0.0877 - mse: 0.0877 - val_loss: 0.0800 - val_mse: 0.0800\n",
            "Epoch 97/100\n",
            "1418/1418 [==============================] - 2s 1ms/step - loss: 0.0877 - mse: 0.0877 - val_loss: 0.0798 - val_mse: 0.0798\n",
            "Epoch 98/100\n",
            "1418/1418 [==============================] - 2s 1ms/step - loss: 0.0877 - mse: 0.0877 - val_loss: 0.0798 - val_mse: 0.0798\n",
            "Epoch 99/100\n",
            "1418/1418 [==============================] - 2s 1ms/step - loss: 0.0873 - mse: 0.0873 - val_loss: 0.0800 - val_mse: 0.0800\n",
            "Epoch 100/100\n",
            "1418/1418 [==============================] - 2s 1ms/step - loss: 0.0872 - mse: 0.0872 - val_loss: 0.0799 - val_mse: 0.0799\n"
          ]
        }
      ]
    },
    {
      "cell_type": "markdown",
      "source": [
        "#Evaluation\n",
        "\n",
        "A simple way to understand the training process is to look at the training and validation loss:"
      ],
      "metadata": {
        "id": "P_atzU6VJTAO"
      }
    },
    {
      "cell_type": "code",
      "source": [
        "def plot_mse(history):\n",
        "  hist = pd.DataFrame(history.history)\n",
        "  hist['epoch'] = history.epoch\n",
        "\n",
        "  plt.figure()\n",
        "  plt.xlabel('Epoch')\n",
        "  plt.ylabel('MSE')\n",
        "  plt.plot(hist['epoch'], hist['mse'],\n",
        "            label='Train MSE')\n",
        "  plt.plot(hist['epoch'], hist['val_mse'],\n",
        "            label = 'Val MSE')\n",
        "  plt.legend()\n",
        "  plt.show()"
      ],
      "metadata": {
        "id": "o1ulghjmJmSt"
      },
      "execution_count": 90,
      "outputs": []
    },
    {
      "cell_type": "markdown",
      "source": [
        "We can see a large improvement in the training error. So we are learning!"
      ],
      "metadata": {
        "id": "6_sS7R4uLJxC"
      }
    },
    {
      "cell_type": "code",
      "source": [
        "plot_mse(history)"
      ],
      "metadata": {
        "colab": {
          "base_uri": "https://localhost:8080/",
          "height": 285
        },
        "id": "oeMqUXN_KylT",
        "outputId": "45162e51-5036-49b7-d3a8-1374807b4376"
      },
      "execution_count": 91,
      "outputs": [
        {
          "output_type": "display_data",
          "data": {
            "text/plain": [
              "<Figure size 432x288 with 1 Axes>"
            ],
            "image/png": "[encoded data removed]"
          },
          "metadata": {}
        }
      ]
    },
    {
      "cell_type": "markdown",
      "source": [
        "This shows we are really training and on a converging path"
      ],
      "metadata": {
        "id": "bhFTuN6yHq5C"
      }
    },
    {
      "cell_type": "markdown",
      "source": [
        "#Real test\n",
        "Recall that we have some additional data. Now it is time to use it and test how good our model. Note that we don’t use that data during the training, only once at the end of the process.\n",
        "\n",
        "Let’s get the predictions from the model:"
      ],
      "metadata": {
        "id": "nyn8k_alL_hl"
      }
    },
    {
      "cell_type": "code",
      "source": [
        "y_pred = model.predict(X_test)"
      ],
      "metadata": {
        "id": "kCG9RUg3MDrB"
      },
      "execution_count": 92,
      "outputs": []
    },
    {
      "cell_type": "code",
      "source": [
        "from sklearn.metrics import mean_squared_error\n",
        "from math import sqrt\n",
        "from sklearn.metrics import r2_score\n",
        "print(f'MSE {mean_squared_error(y_test, y_pred)}')\n",
        "print(f'RMSE {np.sqrt(mean_squared_error(y_test, y_pred))}')\n",
        "print(f'R2 {r2_score(y_test, y_pred)}')"
      ],
      "metadata": {
        "colab": {
          "base_uri": "https://localhost:8080/"
        },
        "id": "LextB0klMFbe",
        "outputId": "c6eceeee-5532-4ad3-dd12-ca939fec0ff0"
      },
      "execution_count": 94,
      "outputs": [
        {
          "output_type": "stream",
          "name": "stdout",
          "text": [
            "MSE 0.07913039394996708\n",
            "RMSE 0.28130125124138194\n",
            "R2 0.20135782294506585\n"
          ]
        }
      ]
    },
    {
      "cell_type": "markdown",
      "source": [
        "Root Mean Squared Error (RMSE) allows us to penalize points further from the mean.\n",
        "\n",
        "Another statistic we can use to measure how well our predictions fit with the real data is the R^2 score. A value close to 1 indicates a perfect fit.\n",
        "\n",
        ">There is a huge room for improvement but we leave it for future."
      ],
      "metadata": {
        "id": "AkLBAIM5Mdfx"
      }
    },
    {
      "cell_type": "markdown",
      "source": [
        "#Saving the model\n",
        "Now that you have a trained model, you need to store it and be able to reuse it later. Recall that we have a data transformer that needs to be stored, too! Let’s save both:"
      ],
      "metadata": {
        "id": "TWEKyWmJNJGE"
      }
    },
    {
      "cell_type": "code",
      "source": [
        "import joblib\n",
        "joblib.dump(transformer, \"data_transformer.joblib\")\n",
        "model.save(\"classification_prediction_model.h5\")"
      ],
      "metadata": {
        "id": "PnErzr3cMHe6"
      },
      "execution_count": 95,
      "outputs": []
    },
    {
      "cell_type": "markdown",
      "source": [
        "We can download the files from the notebook using the following:"
      ],
      "metadata": {
        "id": "uaaYNanONTjD"
      }
    },
    {
      "cell_type": "code",
      "source": [
        "from google.colab import files\n",
        "files.download(\"data_transformer.joblib\")\n",
        "files.download(\"classification_prediction_model.h5\")"
      ],
      "metadata": {
        "colab": {
          "base_uri": "https://localhost:8080/",
          "height": 17
        },
        "id": "v6O1eKgtNEpY",
        "outputId": "cb9326db-60b1-4b47-f67c-ae099181783d"
      },
      "execution_count": 97,
      "outputs": [
        {
          "output_type": "display_data",
          "data": {
            "text/plain": [
              "<IPython.core.display.Javascript object>"
            ],
            "application/javascript": [
              "\n",
              "    async function download(id, filename, size) {\n",
              "      if (!google.colab.kernel.accessAllowed) {\n",
              "        return;\n",
              "      }\n",
              "      const div = document.createElement('div');\n",
              "      const label = document.createElement('label');\n",
              "      label.textContent = `Downloading \"${filename}\": `;\n",
              "      div.appendChild(label);\n",
              "      const progress = document.createElement('progress');\n",
              "      progress.max = size;\n",
              "      div.appendChild(progress);\n",
              "      document.body.appendChild(div);\n",
              "\n",
              "      const buffers = [];\n",
              "      let downloaded = 0;\n",
              "\n",
              "      const channel = await google.colab.kernel.comms.open(id);\n",
              "      // Send a message to notify the kernel that we're ready.\n",
              "      channel.send({})\n",
              "\n",
              "      for await (const message of channel.messages) {\n",
              "        // Send a message to notify the kernel that we're ready.\n",
              "        channel.send({})\n",
              "        if (message.buffers) {\n",
              "          for (const buffer of message.buffers) {\n",
              "            buffers.push(buffer);\n",
              "            downloaded += buffer.byteLength;\n",
              "            progress.value = downloaded;\n",
              "          }\n",
              "        }\n",
              "      }\n",
              "      const blob = new Blob(buffers, {type: 'application/binary'});\n",
              "      const a = document.createElement('a');\n",
              "      a.href = window.URL.createObjectURL(blob);\n",
              "      a.download = filename;\n",
              "      div.appendChild(a);\n",
              "      a.click();\n",
              "      div.remove();\n",
              "    }\n",
              "  "
            ]
          },
          "metadata": {}
        },
        {
          "output_type": "display_data",
          "data": {
            "text/plain": [
              "<IPython.core.display.Javascript object>"
            ],
            "application/javascript": [
              "download(\"download_42d720e4-ac8c-4a2d-9a87-55840f41805a\", \"data_transformer.joblib\", 1981)"
            ]
          },
          "metadata": {}
        },
        {
          "output_type": "display_data",
          "data": {
            "text/plain": [
              "<IPython.core.display.Javascript object>"
            ],
            "application/javascript": [
              "\n",
              "    async function download(id, filename, size) {\n",
              "      if (!google.colab.kernel.accessAllowed) {\n",
              "        return;\n",
              "      }\n",
              "      const div = document.createElement('div');\n",
              "      const label = document.createElement('label');\n",
              "      label.textContent = `Downloading \"${filename}\": `;\n",
              "      div.appendChild(label);\n",
              "      const progress = document.createElement('progress');\n",
              "      progress.max = size;\n",
              "      div.appendChild(progress);\n",
              "      document.body.appendChild(div);\n",
              "\n",
              "      const buffers = [];\n",
              "      let downloaded = 0;\n",
              "\n",
              "      const channel = await google.colab.kernel.comms.open(id);\n",
              "      // Send a message to notify the kernel that we're ready.\n",
              "      channel.send({})\n",
              "\n",
              "      for await (const message of channel.messages) {\n",
              "        // Send a message to notify the kernel that we're ready.\n",
              "        channel.send({})\n",
              "        if (message.buffers) {\n",
              "          for (const buffer of message.buffers) {\n",
              "            buffers.push(buffer);\n",
              "            downloaded += buffer.byteLength;\n",
              "            progress.value = downloaded;\n",
              "          }\n",
              "        }\n",
              "      }\n",
              "      const blob = new Blob(buffers, {type: 'application/binary'});\n",
              "      const a = document.createElement('a');\n",
              "      a.href = window.URL.createObjectURL(blob);\n",
              "      a.download = filename;\n",
              "      div.appendChild(a);\n",
              "      a.click();\n",
              "      div.remove();\n",
              "    }\n",
              "  "
            ]
          },
          "metadata": {}
        },
        {
          "output_type": "display_data",
          "data": {
            "text/plain": [
              "<IPython.core.display.Javascript object>"
            ],
            "application/javascript": [
              "download(\"download_e5fbc191-46b9-443e-bdca-691dceec54e1\", \"classification_prediction_model.h5\", 29344)"
            ]
          },
          "metadata": {}
        }
      ]
    },
    {
      "cell_type": "markdown",
      "source": [
        "#Build REST API\n",
        "\n",
        "Building a REST API allows us to use your model to make predictions for different clients. Almost any device can speak REST - Android, iOS, Web browsers, and many others.\n",
        "\n",
        "Flask allows us to build a REST API in just a couple of lines. Of course, we’re talking about a quick-and-dirty prototype. Let’s have a look at the complete code:"
      ],
      "metadata": {
        "id": "HCRYsqyFNkhx"
      }
    },
    {
      "cell_type": "code",
      "source": [
        "import joblib\n",
        "import pandas as pd\n",
        "from flask import Flask, jsonify, request\n",
        "from tensorflow import keras\n",
        "app = Flask(__name__)\n",
        "model = keras.models.load_model(\"assets/classification_prediction_model.h5\")\n",
        "transformer = joblib.load(\"assets/data_transformer.joblib\")\n",
        "@app.route(\"/\", methods=[\"POST\"])\n",
        "def index():\n",
        "    data = request.json\n",
        "    df = pd.DataFrame(data, index=[0])\n",
        "    prediction = model.predict(transformer.transform(df))\n",
        "    predicted_class = prediction.flatten()[0]\n",
        "    return jsonify({\"label\": str(predicted_class)})"
      ],
      "metadata": {
        "id": "p6CfgopuNZKE"
      },
      "execution_count": null,
      "outputs": []
    },
    {
      "cell_type": "markdown",
      "source": [
        "The API has a single route (index) that accepts only POST requests. Note that we pre-load the data transformer and the model.\n",
        "\n",
        "The request handler obtains the JSON data and converts it into a Pandas DataFrame. Next, we use the transformer to pre-process the data and get a prediction from our model. Finally we return the predicted class as JSON.\n",
        "\n",
        "Lets start the server to listen\n",
        "```\n",
        "flask run\n",
        "```\n",
        "\n",
        "Then ask a prediction\n",
        "```\n",
        "curl -d '{\"0\": \"Brooklyn\", \"1\": 123, \"2\": -123, \"3\": 123, \"4\": 123}' -H \"Content-Type: application/json\" -X POST http://localhost:5000\n",
        "\n",
        "```\n",
        "\n"
      ],
      "metadata": {
        "id": "oDAmfv0KOIsW"
      }
    },
    {
      "cell_type": "markdown",
      "source": [
        "#Deploy to production\n",
        "\n",
        "\n",
        "We’ll deploy the project to Google App Engine:\n",
        "\n",
        "Here is the complete app.yaml config:\n",
        "\n",
        "```\n",
        "entrypoint: \"gunicorn -b :$PORT app:app --timeout 500\"\n",
        "runtime: python\n",
        "env: flex\n",
        "service: nyc-price-prediction\n",
        "runtime_config:\n",
        "  python_version: 3.7\n",
        "instance_class: B1\n",
        "manual_scaling:\n",
        "  instances: 1\n",
        "liveness_check:\n",
        "  path: \"/liveness_check\"\n",
        "```\n",
        "\n",
        "Execute the following command to deploy the project:\n",
        "\n",
        "```\n",
        "gcloud app deploy\n",
        "```\n",
        "\n",
        "Now our model is deployed and ready for production use."
      ],
      "metadata": {
        "id": "HV7R08w-PBuW"
      }
    },
    {
      "cell_type": "code",
      "source": [
        ""
      ],
      "metadata": {
        "id": "8XAN6QWwPb_o"
      },
      "execution_count": null,
      "outputs": []
    }
  ]
}